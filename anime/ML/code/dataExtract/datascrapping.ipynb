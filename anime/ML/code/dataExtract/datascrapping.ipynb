{
 "cells": [
  {
   "cell_type": "code",
   "execution_count": 6,
   "metadata": {},
   "outputs": [
    {
     "name": "stderr",
     "output_type": "stream",
     "text": [
      "C:\\Users\\mvspr\\AppData\\Local\\Temp\\ipykernel_10268\\3293134892.py:4: DeprecationWarning: executable_path has been deprecated, please pass in a Service object\n",
      "  driver = webdriver.Chrome(\"S:\\Projects/anime\\chromedriver\\chromedriver_win32\\chromedriver.exe\")\n"
     ]
    }
   ],
   "source": [
    "from selenium import webdriver\n",
    "from selenium.webdriver.support.ui import WebDriverWait\n",
    "\n",
    "driver = webdriver.Chrome(\"S:\\Projects/anime\\chromedriver\\chromedriver_win32\\chromedriver.exe\")\n",
    "wait = WebDriverWait(driver, 15)"
   ]
  },
  {
   "cell_type": "code",
   "execution_count": 7,
   "metadata": {},
   "outputs": [],
   "source": [
    "from selenium.webdriver.support import expected_conditions as EC\n",
    "from selenium.webdriver.common.by import By\n",
    "\n",
    "driver.get('https://myanimelist.net/anime/2001/Tengen_Toppa_Gurren_Lagann')"
   ]
  },
  {
   "cell_type": "code",
   "execution_count": 8,
   "metadata": {},
   "outputs": [],
   "source": [
    "from selenium.common.exceptions import NoSuchElementException\n",
    "\n",
    "def exist_by_path(path):\n",
    "    try:\n",
    "        driver.find_element(By.XPATH, '//*[contains(text(),\"Demographic:\")]/parent::div')\n",
    "    except NoSuchElementException:\n",
    "        return False\n",
    "    return True"
   ]
  },
  {
   "cell_type": "code",
   "execution_count": null,
   "metadata": {},
   "outputs": [
    {
     "name": "stdout",
     "output_type": "stream",
     "text": [
      "12\n"
     ]
    }
   ],
   "source": [
    "title = wait.until(EC.visibility_of_element_located((By.XPATH, '//span[contains(text(), \"Episodes:\")]/parent::div')))\n",
    "title = title.text\n",
    "title = title.replace('Episodes: ','')\n",
    "print(title)"
   ]
  },
  {
   "cell_type": "code",
   "execution_count": 7,
   "metadata": {},
   "outputs": [
    {
     "name": "stdout",
     "output_type": "stream",
     "text": [
      "Finished Airing\n"
     ]
    }
   ],
   "source": [
    "status = wait.until(EC.visibility_of_element_located((By.XPATH, '//span[contains(text(), \"Status:\")]/parent::div')))\n",
    "status = status.text\n",
    "status = status.replace('Status: ','')\n",
    "print(status)"
   ]
  },
  {
   "cell_type": "code",
   "execution_count": 16,
   "metadata": {},
   "outputs": [
    {
     "name": "stdout",
     "output_type": "stream",
     "text": [
      "Gainax\n"
     ]
    }
   ],
   "source": [
    "#studio = wait.until(EC.visibility_of_element_located((By.CSS_SELECTOR, 'a[title=\"Madhouse\"]')))\n",
    "studio = wait.until(EC.visibility_of_element_located((By.XPATH, '//*[contains(text(),\"Studios:\")]/parent::div')))\n",
    "studio = studio.text\n",
    "studio = studio.replace('Studios: ','')\n",
    "print(studio)"
   ]
  },
  {
   "cell_type": "code",
   "execution_count": null,
   "metadata": {},
   "outputs": [
    {
     "name": "stdout",
     "output_type": "stream",
     "text": [
      "Action, Fantasy, Horror\n"
     ]
    }
   ],
   "source": [
    "genre = wait.until(EC.visibility_of_element_located((By.XPATH, '//span[contains(text(),\"Genres:\")]/parent::div')))\n",
    "genre = genre.text\n",
    "genre = genre.replace('Genres: ','')\n",
    "print(genre)"
   ]
  },
  {
   "cell_type": "code",
   "execution_count": null,
   "metadata": {},
   "outputs": [
    {
     "name": "stdout",
     "output_type": "stream",
     "text": [
      "Gore, Psychological\n"
     ]
    }
   ],
   "source": [
    "theme = wait.until(EC.visibility_of_element_located((By.XPATH, '//span[contains(text(),\"Theme\")]/parent::div')))\n",
    "theme = theme.text\n",
    "theme = theme.replace('Themes: ','')\n",
    "print(theme)"
   ]
  },
  {
   "cell_type": "code",
   "execution_count": 24,
   "metadata": {},
   "outputs": [
    {
     "name": "stdout",
     "output_type": "stream",
     "text": [
      "NA\n"
     ]
    }
   ],
   "source": [
    "path = '//*[contains(text(),\"Demographic:\")]/parent::div'\n",
    "if exist_by_path(path):\n",
    "    demographic = wait.until(EC.visibility_of_element_located((By.XPATH,'//span[contains(text(),\"Demographic:\")]/parent::div')))\n",
    "    demographic = demographic.text\n",
    "    demographic = demographic.replace('Demographic: ','')\n",
    "else:\n",
    "    demographic = 'NA'\n",
    "print(demographic)"
   ]
  },
  {
   "cell_type": "code",
   "execution_count": null,
   "metadata": {},
   "outputs": [
    {
     "name": "stdout",
     "output_type": "stream",
     "text": [
      "R - 17+ (violence & profanity)\n"
     ]
    }
   ],
   "source": [
    "rating = wait.until(EC.visibility_of_element_located((By.XPATH,'//span[contains(text(),\"Rating:\")]/parent::div')))\n",
    "rating = rating.text\n",
    "rating = rating.replace(\"Rating: \",'')\n",
    "print(rating)"
   ]
  },
  {
   "cell_type": "code",
   "execution_count": null,
   "metadata": {},
   "outputs": [
    {
     "name": "stdout",
     "output_type": "stream",
     "text": [
      "7.80\n"
     ]
    }
   ],
   "source": [
    "score = wait.until(EC.visibility_of_element_located((By.CSS_SELECTOR,'div[class*=\"score-label\"]')))\n",
    "score = score.text\n",
    "print(score)"
   ]
  },
  {
   "cell_type": "code",
   "execution_count": null,
   "metadata": {},
   "outputs": [
    {
     "name": "stdout",
     "output_type": "stream",
     "text": [
      "111\n"
     ]
    }
   ],
   "source": [
    "ranked = wait.until(EC.visibility_of_element_located((By.CSS_SELECTOR,'span[class=\"numbers ranked\"]')))\n",
    "ranked = ranked.text\n",
    "ranked = ranked.replace('Ranked #','')\n",
    "print(ranked)"
   ]
  },
  {
   "cell_type": "code",
   "execution_count": null,
   "metadata": {},
   "outputs": [
    {
     "name": "stdout",
     "output_type": "stream",
     "text": [
      "4\n"
     ]
    }
   ],
   "source": [
    "popularity = wait.until(EC.visibility_of_element_located((By.CSS_SELECTOR,'span[class=\"numbers popularity\"]')))\n",
    "popularity = popularity.text\n",
    "popularity = popularity.replace('Popularity #','')\n",
    "print(popularity)"
   ]
  },
  {
   "cell_type": "code",
   "execution_count": null,
   "metadata": {},
   "outputs": [
    {
     "name": "stdout",
     "output_type": "stream",
     "text": [
      "2,807,604\n"
     ]
    }
   ],
   "source": [
    "member = wait.until(EC.visibility_of_element_located((By.CSS_SELECTOR,'span[class=\"numbers members\"]')))\n",
    "member = member.text\n",
    "member = member.replace('Members ','')\n",
    "print(member)"
   ]
  },
  {
   "cell_type": "code",
   "execution_count": 5,
   "metadata": {},
   "outputs": [
    {
     "name": "stdout",
     "output_type": "stream",
     "text": [
      "64,178\n"
     ]
    }
   ],
   "source": [
    "favorite = wait.until(EC.visibility_of_element_located((By.XPATH, '//span[contains(text(),\"Favorites:\")]/parent::div')))\n",
    "favorite = favorite.text\n",
    "favorite = favorite.replace('Favorites: ','')\n",
    "print(favorite)"
   ]
  },
  {
   "cell_type": "code",
   "execution_count": 10,
   "metadata": {},
   "outputs": [
    {
     "name": "stdout",
     "output_type": "stream",
     "text": [
      "Sword Art Online\n"
     ]
    }
   ],
   "source": [
    "title = wait.until(EC.visibility_of_element_located((By.CSS_SELECTOR, 'h1[class=\"title-name h1_bold_none\"]')))\n",
    "title = title.text\n",
    "print(title)"
   ]
  },
  {
   "cell_type": "code",
   "execution_count": 36,
   "metadata": {},
   "outputs": [
    {
     "data": {
      "text/plain": [
       "['Crunchyroll', 'Funimation']"
      ]
     },
     "execution_count": 36,
     "metadata": {},
     "output_type": "execute_result"
    }
   ],
   "source": [
    "platform = wait.until(EC.visibility_of_any_elements_located((By.CSS_SELECTOR,'div[class=\"caption\"]')))\n",
    "#platform = wait.until(EC.visibility_of_element_located((By.XPATH, '//h2[Contains(text(),\"Streaming Platform\")]/parent::div')))\n",
    "p = []\n",
    "for i in platform:\n",
    "    p.append(i.text)\n",
    "\n"
   ]
  },
  {
   "cell_type": "code",
   "execution_count": null,
   "metadata": {},
   "outputs": [],
   "source": []
  }
 ],
 "metadata": {
  "interpreter": {
   "hash": "544df186037e6dff05340f217e24fcbd5596a5bc7a12cb3c27f45aa01bd7925a"
  },
  "kernelspec": {
   "display_name": "Python 3.9.7 64-bit",
   "language": "python",
   "name": "python3"
  },
  "language_info": {
   "codemirror_mode": {
    "name": "ipython",
    "version": 3
   },
   "file_extension": ".py",
   "mimetype": "text/x-python",
   "name": "python",
   "nbconvert_exporter": "python",
   "pygments_lexer": "ipython3",
   "version": "3.9.7"
  },
  "orig_nbformat": 4
 },
 "nbformat": 4,
 "nbformat_minor": 2
}
