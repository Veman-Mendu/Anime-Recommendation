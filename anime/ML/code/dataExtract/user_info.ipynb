{
 "cells": [
  {
   "cell_type": "code",
   "execution_count": 1,
   "metadata": {},
   "outputs": [
    {
     "name": "stderr",
     "output_type": "stream",
     "text": [
      "C:\\Users\\mvspr\\AppData\\Local\\Temp\\ipykernel_46364\\4269025399.py:4: DeprecationWarning: executable_path has been deprecated, please pass in a Service object\n",
      "  driver = webdriver.Chrome(\"S:\\Projects/anime\\ML\\chromedriver\\chromedriver_win32\\chromedriver.exe\")\n"
     ]
    }
   ],
   "source": [
    "from selenium import webdriver\n",
    "from selenium.webdriver.support.ui import WebDriverWait\n",
    "\n",
    "driver = webdriver.Chrome(\"S:\\Projects/anime\\ML\\chromedriver\\chromedriver_win32\\chromedriver.exe\")\n",
    "wait = WebDriverWait(driver, 7)"
   ]
  },
  {
   "cell_type": "code",
   "execution_count": 2,
   "metadata": {},
   "outputs": [],
   "source": [
    "from selenium.webdriver.common.by import By\n",
    "\n",
    "links = []\n",
    "score = []\n",
    "driver.get('https://myanimelist.net/anime/16498/Shingeki_no_Kyojin/stats')\n",
    "link = driver.find_elements(By.CSS_SELECTOR, 'table[class=\"table-recently-updated\"] td[class=\"borderClass\"] a')\n",
    "for item in link:\n",
    "    links.append(item.get_attribute('href'))"
   ]
  },
  {
   "cell_type": "code",
   "execution_count": 3,
   "metadata": {},
   "outputs": [
    {
     "data": {
      "text/plain": [
       "150"
      ]
     },
     "execution_count": 3,
     "metadata": {},
     "output_type": "execute_result"
    }
   ],
   "source": [
    "len(links)"
   ]
  },
  {
   "cell_type": "code",
   "execution_count": 4,
   "metadata": {},
   "outputs": [
    {
     "data": {
      "text/plain": [
       "300"
      ]
     },
     "execution_count": 4,
     "metadata": {},
     "output_type": "execute_result"
    }
   ],
   "source": [
    "from selenium.webdriver.common.by import By\n",
    "\n",
    "data = []\n",
    "score = []\n",
    "driver.get('https://myanimelist.net/anime/16498/Shingeki_no_Kyojin/stats')\n",
    "link = driver.find_elements(By.CSS_SELECTOR, 'table[class=\"table-recently-updated\"] td[class=\"borderClass ac\"]')\n",
    "for item in link:\n",
    "    data.append(item.text)\n",
    "\n",
    "len(data)"
   ]
  },
  {
   "cell_type": "code",
   "execution_count": 5,
   "metadata": {},
   "outputs": [
    {
     "data": {
      "text/plain": [
       "300"
      ]
     },
     "execution_count": 5,
     "metadata": {},
     "output_type": "execute_result"
    }
   ],
   "source": [
    "len(data)"
   ]
  },
  {
   "cell_type": "code",
   "execution_count": 6,
   "metadata": {},
   "outputs": [
    {
     "data": {
      "text/plain": [
       "75"
      ]
     },
     "execution_count": 6,
     "metadata": {},
     "output_type": "execute_result"
    }
   ],
   "source": [
    "re_data = []\n",
    "for i in range(0,300):\n",
    "    if i%4 == 0:\n",
    "        re_data.append([data[i],data[i+1],data[i+2],data[i+3]])\n",
    "        \n",
    "len(re_data)"
   ]
  },
  {
   "cell_type": "code",
   "execution_count": 7,
   "metadata": {},
   "outputs": [
    {
     "data": {
      "text/plain": [
       "75"
      ]
     },
     "execution_count": 7,
     "metadata": {},
     "output_type": "execute_result"
    }
   ],
   "source": [
    "up_links = []\n",
    "for i in range(0,150):\n",
    "    if (i%2 == 0):\n",
    "        up_links.append(links[i])\n",
    "\n",
    "len(up_links)"
   ]
  },
  {
   "cell_type": "code",
   "execution_count": 8,
   "metadata": {},
   "outputs": [
    {
     "data": {
      "text/html": [
       "<div>\n",
       "<style scoped>\n",
       "    .dataframe tbody tr th:only-of-type {\n",
       "        vertical-align: middle;\n",
       "    }\n",
       "\n",
       "    .dataframe tbody tr th {\n",
       "        vertical-align: top;\n",
       "    }\n",
       "\n",
       "    .dataframe thead th {\n",
       "        text-align: right;\n",
       "    }\n",
       "</style>\n",
       "<table border=\"1\" class=\"dataframe\">\n",
       "  <thead>\n",
       "    <tr style=\"text-align: right;\">\n",
       "      <th></th>\n",
       "      <th>user_link</th>\n",
       "      <th>score</th>\n",
       "      <th>status</th>\n",
       "      <th>Eps seen</th>\n",
       "      <th>activity</th>\n",
       "    </tr>\n",
       "  </thead>\n",
       "  <tbody>\n",
       "    <tr>\n",
       "      <th>0</th>\n",
       "      <td>https://myanimelist.net/profile/Northmeister</td>\n",
       "      <td>10</td>\n",
       "      <td>Completed</td>\n",
       "      <td>1 / 25</td>\n",
       "      <td>12 seconds ago</td>\n",
       "    </tr>\n",
       "    <tr>\n",
       "      <th>1</th>\n",
       "      <td>https://myanimelist.net/profile/liitledumpling</td>\n",
       "      <td>8</td>\n",
       "      <td>Completed</td>\n",
       "      <td>25 / 25</td>\n",
       "      <td>3 minutes ago</td>\n",
       "    </tr>\n",
       "    <tr>\n",
       "      <th>2</th>\n",
       "      <td>https://myanimelist.net/profile/AlexSzilagyi</td>\n",
       "      <td>-</td>\n",
       "      <td>Completed</td>\n",
       "      <td>25 / 25</td>\n",
       "      <td>3 minutes ago</td>\n",
       "    </tr>\n",
       "    <tr>\n",
       "      <th>3</th>\n",
       "      <td>https://myanimelist.net/profile/Michellelinchen</td>\n",
       "      <td>10</td>\n",
       "      <td>Completed</td>\n",
       "      <td>25 / 25</td>\n",
       "      <td>5 minutes ago</td>\n",
       "    </tr>\n",
       "    <tr>\n",
       "      <th>4</th>\n",
       "      <td>https://myanimelist.net/profile/eem_fahmeme</td>\n",
       "      <td>-</td>\n",
       "      <td>Completed</td>\n",
       "      <td>25 / 25</td>\n",
       "      <td>7 minutes ago</td>\n",
       "    </tr>\n",
       "  </tbody>\n",
       "</table>\n",
       "</div>"
      ],
      "text/plain": [
       "                                         user_link score     status Eps seen  \\\n",
       "0     https://myanimelist.net/profile/Northmeister    10  Completed   1 / 25   \n",
       "1   https://myanimelist.net/profile/liitledumpling     8  Completed  25 / 25   \n",
       "2     https://myanimelist.net/profile/AlexSzilagyi     -  Completed  25 / 25   \n",
       "3  https://myanimelist.net/profile/Michellelinchen    10  Completed  25 / 25   \n",
       "4      https://myanimelist.net/profile/eem_fahmeme     -  Completed  25 / 25   \n",
       "\n",
       "         activity  \n",
       "0  12 seconds ago  \n",
       "1   3 minutes ago  \n",
       "2   3 minutes ago  \n",
       "3   5 minutes ago  \n",
       "4   7 minutes ago  "
      ]
     },
     "execution_count": 8,
     "metadata": {},
     "output_type": "execute_result"
    }
   ],
   "source": [
    "import pandas as pd\n",
    "\n",
    "up_links = pd.DataFrame(up_links)\n",
    "up_links.columns = ['user_link']\n",
    "re_data = pd.DataFrame(re_data)\n",
    "re_data.columns = ['score','status','Eps seen','activity']\n",
    "\n",
    "\n",
    "full_data = pd.concat([up_links, re_data], axis=1, join='inner')\n",
    "full_data.head(5)"
   ]
  },
  {
   "cell_type": "code",
   "execution_count": 9,
   "metadata": {},
   "outputs": [
    {
     "data": {
      "text/plain": [
       "(75, 4)"
      ]
     },
     "execution_count": 9,
     "metadata": {},
     "output_type": "execute_result"
    }
   ],
   "source": [
    "re_data.shape"
   ]
  },
  {
   "cell_type": "code",
   "execution_count": 10,
   "metadata": {},
   "outputs": [
    {
     "data": {
      "text/html": [
       "<div>\n",
       "<style scoped>\n",
       "    .dataframe tbody tr th:only-of-type {\n",
       "        vertical-align: middle;\n",
       "    }\n",
       "\n",
       "    .dataframe tbody tr th {\n",
       "        vertical-align: top;\n",
       "    }\n",
       "\n",
       "    .dataframe thead th {\n",
       "        text-align: right;\n",
       "    }\n",
       "</style>\n",
       "<table border=\"1\" class=\"dataframe\">\n",
       "  <thead>\n",
       "    <tr style=\"text-align: right;\">\n",
       "      <th></th>\n",
       "      <th>user_link</th>\n",
       "      <th>score</th>\n",
       "    </tr>\n",
       "  </thead>\n",
       "  <tbody>\n",
       "    <tr>\n",
       "      <th>0</th>\n",
       "      <td>https://myanimelist.net/profile/Northmeister</td>\n",
       "      <td>10</td>\n",
       "    </tr>\n",
       "    <tr>\n",
       "      <th>1</th>\n",
       "      <td>https://myanimelist.net/profile/liitledumpling</td>\n",
       "      <td>8</td>\n",
       "    </tr>\n",
       "    <tr>\n",
       "      <th>2</th>\n",
       "      <td>https://myanimelist.net/profile/AlexSzilagyi</td>\n",
       "      <td>-</td>\n",
       "    </tr>\n",
       "    <tr>\n",
       "      <th>3</th>\n",
       "      <td>https://myanimelist.net/profile/Michellelinchen</td>\n",
       "      <td>10</td>\n",
       "    </tr>\n",
       "    <tr>\n",
       "      <th>4</th>\n",
       "      <td>https://myanimelist.net/profile/eem_fahmeme</td>\n",
       "      <td>-</td>\n",
       "    </tr>\n",
       "  </tbody>\n",
       "</table>\n",
       "</div>"
      ],
      "text/plain": [
       "                                         user_link score\n",
       "0     https://myanimelist.net/profile/Northmeister    10\n",
       "1   https://myanimelist.net/profile/liitledumpling     8\n",
       "2     https://myanimelist.net/profile/AlexSzilagyi     -\n",
       "3  https://myanimelist.net/profile/Michellelinchen    10\n",
       "4      https://myanimelist.net/profile/eem_fahmeme     -"
      ]
     },
     "execution_count": 10,
     "metadata": {},
     "output_type": "execute_result"
    }
   ],
   "source": [
    "score_data = full_data.drop(['status','Eps seen', 'activity'], axis=1)\n",
    "score_data.head(5)"
   ]
  },
  {
   "cell_type": "code",
   "execution_count": 11,
   "metadata": {},
   "outputs": [],
   "source": [
    "anime_score = []\n",
    "sampling = score_data.to_numpy()\n",
    "for d in sampling:\n",
    "    if(d[1].isdigit()):\n",
    "        anime_score.append(d)\n",
    "\n",
    "anime_score = pd.DataFrame(anime_score)"
   ]
  },
  {
   "cell_type": "code",
   "execution_count": 12,
   "metadata": {},
   "outputs": [],
   "source": [
    "anime_score.columns = ['links','score']"
   ]
  },
  {
   "cell_type": "code",
   "execution_count": 13,
   "metadata": {},
   "outputs": [
    {
     "data": {
      "text/plain": [
       "'10'"
      ]
     },
     "execution_count": 13,
     "metadata": {},
     "output_type": "execute_result"
    }
   ],
   "source": [
    "anime_score['score'][0]"
   ]
  },
  {
   "cell_type": "code",
   "execution_count": 14,
   "metadata": {},
   "outputs": [],
   "source": [
    "driver.get(anime_score['links'][0])"
   ]
  },
  {
   "cell_type": "code",
   "execution_count": 15,
   "metadata": {},
   "outputs": [
    {
     "data": {
      "text/plain": [
       "[['Anime', 'Stats'],\n",
       " ['Days:', '22.5', 'Mean', 'Score:', '7.85'],\n",
       " ['Watching'],\n",
       " ['1'],\n",
       " ['Completed'],\n",
       " ['58'],\n",
       " ['On-Hold'],\n",
       " ['12'],\n",
       " ['Dropped'],\n",
       " ['3'],\n",
       " ['Plan', 'to', 'Watch'],\n",
       " ['87'],\n",
       " ['Total', 'Entries'],\n",
       " ['161'],\n",
       " ['Rewatched'],\n",
       " ['16'],\n",
       " ['Episodes'],\n",
       " ['1,344']]"
      ]
     },
     "execution_count": 15,
     "metadata": {},
     "output_type": "execute_result"
    }
   ],
   "source": [
    "from selenium.webdriver.support import expected_conditions as EC\n",
    "from selenium.webdriver.common.by import By\n",
    "\n",
    "anime_stats = []\n",
    "score = wait.until(EC.visibility_of_element_located((By.CSS_SELECTOR,'div[class=\"stats anime\"]')))\n",
    "score = score.text\n",
    "score = score.split('\\n')\n",
    "for s in score:\n",
    "    s = s.split(' ')\n",
    "    anime_stats.append(s)\n",
    "\n",
    "anime_stats"
   ]
  },
  {
   "cell_type": "code",
   "execution_count": 17,
   "metadata": {},
   "outputs": [
    {
     "name": "stdout",
     "output_type": "stream",
     "text": [
      "Shingeki no Kyojin\n"
     ]
    }
   ],
   "source": [
    "driver.get('https://myanimelist.net/anime/16498/Shingeki_no_Kyojin/stats')\n",
    "title = wait.until(EC.visibility_of_element_located((By.CSS_SELECTOR, 'h1[class=\"title-name h1_bold_none\"]')))\n",
    "title = title.text\n",
    "print(title)"
   ]
  },
  {
   "cell_type": "code",
   "execution_count": 22,
   "metadata": {},
   "outputs": [
    {
     "data": {
      "text/html": [
       "<div>\n",
       "<style scoped>\n",
       "    .dataframe tbody tr th:only-of-type {\n",
       "        vertical-align: middle;\n",
       "    }\n",
       "\n",
       "    .dataframe tbody tr th {\n",
       "        vertical-align: top;\n",
       "    }\n",
       "\n",
       "    .dataframe thead th {\n",
       "        text-align: right;\n",
       "    }\n",
       "</style>\n",
       "<table border=\"1\" class=\"dataframe\">\n",
       "  <thead>\n",
       "    <tr style=\"text-align: right;\">\n",
       "      <th></th>\n",
       "      <th>id</th>\n",
       "      <th>Title</th>\n",
       "      <th>Score</th>\n",
       "      <th>Days</th>\n",
       "      <th>Mean Score</th>\n",
       "      <th>Watching</th>\n",
       "      <th>Completed</th>\n",
       "      <th>On Hold</th>\n",
       "      <th>Dropped</th>\n",
       "      <th>Plan to Watch</th>\n",
       "      <th>Total Entries</th>\n",
       "      <th>Rewatched</th>\n",
       "      <th>Episodes</th>\n",
       "    </tr>\n",
       "  </thead>\n",
       "  <tbody>\n",
       "    <tr>\n",
       "      <th>0</th>\n",
       "      <td>0</td>\n",
       "      <td>Shingeki no Kyojin</td>\n",
       "      <td>10.0</td>\n",
       "      <td>22.5</td>\n",
       "      <td>7.85</td>\n",
       "      <td>1.0</td>\n",
       "      <td>58.0</td>\n",
       "      <td>12.0</td>\n",
       "      <td>3.0</td>\n",
       "      <td>87.0</td>\n",
       "      <td>161.0</td>\n",
       "      <td>16.0</td>\n",
       "      <td>1344.0</td>\n",
       "    </tr>\n",
       "  </tbody>\n",
       "</table>\n",
       "</div>"
      ],
      "text/plain": [
       "   id               Title  Score  Days  Mean Score  Watching  Completed  \\\n",
       "0   0  Shingeki no Kyojin   10.0  22.5        7.85       1.0       58.0   \n",
       "\n",
       "   On Hold  Dropped  Plan to Watch  Total Entries  Rewatched  Episodes  \n",
       "0     12.0      3.0           87.0          161.0       16.0    1344.0  "
      ]
     },
     "execution_count": 22,
     "metadata": {},
     "output_type": "execute_result"
    }
   ],
   "source": [
    "user_data = [0,title,anime_score['score'][0],anime_stats[1][1], anime_stats[1][4],anime_stats[3][0],anime_stats[5][0],anime_stats[7][0],anime_stats[9][0],anime_stats[11][0],anime_stats[13][0],anime_stats[15][0],anime_stats[17][0]]\n",
    "for i in range(2,13):\n",
    "    user_data[i] = user_data[i].replace(',','')\n",
    "    user_data[i] = float(user_data[i])\n",
    "\n",
    "u_data = []\n",
    "for i in range(2):\n",
    "    u_data.append(user_data)\n",
    "\n",
    "u_data = pd.DataFrame(u_data)\n",
    "u_data.columns = ['id','Title','Score','Days','Mean Score', 'Watching', 'Completed', 'On Hold', 'Dropped', 'Plan to Watch', 'Total Entries', 'Rewatched', 'Episodes']\n",
    "u_data = u_data.drop_duplicates()\n",
    "u_data"
   ]
  },
  {
   "cell_type": "code",
   "execution_count": null,
   "metadata": {},
   "outputs": [],
   "source": []
  }
 ],
 "metadata": {
  "kernelspec": {
   "display_name": "Python 3.9.7 64-bit",
   "language": "python",
   "name": "python3"
  },
  "language_info": {
   "codemirror_mode": {
    "name": "ipython",
    "version": 3
   },
   "file_extension": ".py",
   "mimetype": "text/x-python",
   "name": "python",
   "nbconvert_exporter": "python",
   "pygments_lexer": "ipython3",
   "version": "3.9.7"
  },
  "orig_nbformat": 4,
  "vscode": {
   "interpreter": {
    "hash": "544df186037e6dff05340f217e24fcbd5596a5bc7a12cb3c27f45aa01bd7925a"
   }
  }
 },
 "nbformat": 4,
 "nbformat_minor": 2
}
