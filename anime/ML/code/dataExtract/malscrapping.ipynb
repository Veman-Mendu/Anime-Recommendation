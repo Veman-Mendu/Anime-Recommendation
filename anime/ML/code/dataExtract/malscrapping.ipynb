{
 "cells": [
  {
   "cell_type": "code",
   "execution_count": 2,
   "metadata": {},
   "outputs": [],
   "source": [
    "import pandas as pd\n",
    "from selenium import webdriver\n",
    "from selenium.webdriver.common.by import By\n",
    "from selenium.webdriver.support.ui import WebDriverWait\n",
    "from selenium.webdriver.support import expected_conditions as EC"
   ]
  },
  {
   "cell_type": "code",
   "execution_count": 3,
   "metadata": {},
   "outputs": [
    {
     "name": "stderr",
     "output_type": "stream",
     "text": [
      "C:\\Users\\mvspr\\AppData\\Local\\Temp\\ipykernel_27600\\1320487979.py:1: DeprecationWarning: executable_path has been deprecated, please pass in a Service object\n",
      "  driver = webdriver.Chrome(\"S:\\Projects/anime\\chromedriver\\chromedriver_win32\\chromedriver.exe\")\n"
     ]
    }
   ],
   "source": [
    "driver = webdriver.Chrome(\"S:\\Projects/anime\\chromedriver\\chromedriver_win32\\chromedriver.exe\")\n",
    "wait = WebDriverWait(driver, 5)"
   ]
  },
  {
   "cell_type": "code",
   "execution_count": 4,
   "metadata": {},
   "outputs": [],
   "source": [
    "links = []\n",
    "for rank in range(0,100,50):\n",
    "    driver.get('https://myanimelist.net/topanime.php?type=bypopularity&limit='+str(rank))\n",
    "    link = driver.find_elements(By.CSS_SELECTOR, 'div[class=\"detail\"] h3 a')\n",
    "    for item in link:\n",
    "        links.append(item.get_attribute('href'))"
   ]
  },
  {
   "cell_type": "code",
   "execution_count": 5,
   "metadata": {},
   "outputs": [],
   "source": [
    "titles = []\n",
    "ratings = []\n",
    "genres = []\n",
    "\n",
    "for link in links:\n",
    "    driver.get(link)\n",
    "    title = wait.until(EC.visibility_of_element_located((By.CSS_SELECTOR, 'div[class=\"h1-title\"]')))\n",
    "    titles.append(title.text)\n",
    "    rating = wait.until(EC.visibility_of_element_located((By.CSS_SELECTOR, 'div[class*=\"score-label\"]')))\n",
    "    ratings.append(rating.text)\n",
    "    genre = wait.until(EC.visibility_of_element_located((By.XPATH, '//*[contains(text(), \"Genre\")]/parent::div')))\n",
    "    genres.append(genre.text)"
   ]
  },
  {
   "cell_type": "code",
   "execution_count": 7,
   "metadata": {},
   "outputs": [],
   "source": [
    "data = {'Title' : titles, 'Rating' : ratings, 'Genre' : genres}\n",
    "dataFrame = pd.DataFrame(data)"
   ]
  },
  {
   "cell_type": "code",
   "execution_count": 8,
   "metadata": {},
   "outputs": [
    {
     "data": {
      "text/html": [
       "<div>\n",
       "<style scoped>\n",
       "    .dataframe tbody tr th:only-of-type {\n",
       "        vertical-align: middle;\n",
       "    }\n",
       "\n",
       "    .dataframe tbody tr th {\n",
       "        vertical-align: top;\n",
       "    }\n",
       "\n",
       "    .dataframe thead th {\n",
       "        text-align: right;\n",
       "    }\n",
       "</style>\n",
       "<table border=\"1\" class=\"dataframe\">\n",
       "  <thead>\n",
       "    <tr style=\"text-align: right;\">\n",
       "      <th></th>\n",
       "      <th>Title</th>\n",
       "      <th>Rating</th>\n",
       "      <th>Genre</th>\n",
       "    </tr>\n",
       "  </thead>\n",
       "  <tbody>\n",
       "    <tr>\n",
       "      <th>0</th>\n",
       "      <td>Shingeki no Kyojin\\nAttack on Titan</td>\n",
       "      <td>8.53</td>\n",
       "      <td>Genres: Action, Drama</td>\n",
       "    </tr>\n",
       "    <tr>\n",
       "      <th>1</th>\n",
       "      <td>Death Note</td>\n",
       "      <td>8.62</td>\n",
       "      <td>Genres: Supernatural, Suspense</td>\n",
       "    </tr>\n",
       "    <tr>\n",
       "      <th>2</th>\n",
       "      <td>Fullmetal Alchemist: Brotherhood</td>\n",
       "      <td>9.14</td>\n",
       "      <td>Genres: Action, Adventure, Drama, Fantasy</td>\n",
       "    </tr>\n",
       "    <tr>\n",
       "      <th>3</th>\n",
       "      <td>One Punch Man</td>\n",
       "      <td>8.51</td>\n",
       "      <td>Genres: Action, Comedy</td>\n",
       "    </tr>\n",
       "    <tr>\n",
       "      <th>4</th>\n",
       "      <td>Sword Art Online</td>\n",
       "      <td>7.20</td>\n",
       "      <td>Genres: Action, Adventure, Fantasy, Romance</td>\n",
       "    </tr>\n",
       "    <tr>\n",
       "      <th>...</th>\n",
       "      <td>...</td>\n",
       "      <td>...</td>\n",
       "      <td>...</td>\n",
       "    </tr>\n",
       "    <tr>\n",
       "      <th>95</th>\n",
       "      <td>Deadman Wonderland</td>\n",
       "      <td>7.17</td>\n",
       "      <td>Genres: Action, Horror, Sci-Fi, Supernatural</td>\n",
       "    </tr>\n",
       "    <tr>\n",
       "      <th>96</th>\n",
       "      <td>Kaichou wa Maid-sama!\\nMaid Sama!</td>\n",
       "      <td>8.02</td>\n",
       "      <td>Genres: Comedy, Romance</td>\n",
       "    </tr>\n",
       "    <tr>\n",
       "      <th>97</th>\n",
       "      <td>Guilty Crown</td>\n",
       "      <td>7.44</td>\n",
       "      <td>Genres: Action, Drama, Sci-Fi</td>\n",
       "    </tr>\n",
       "    <tr>\n",
       "      <th>98</th>\n",
       "      <td>Vinland Saga</td>\n",
       "      <td>8.73</td>\n",
       "      <td>Genres: Action, Adventure, Drama</td>\n",
       "    </tr>\n",
       "    <tr>\n",
       "      <th>99</th>\n",
       "      <td>Samurai Champloo</td>\n",
       "      <td>8.50</td>\n",
       "      <td>Genres: Action, Adventure, Comedy</td>\n",
       "    </tr>\n",
       "  </tbody>\n",
       "</table>\n",
       "<p>100 rows × 3 columns</p>\n",
       "</div>"
      ],
      "text/plain": [
       "                                  Title Rating  \\\n",
       "0   Shingeki no Kyojin\\nAttack on Titan   8.53   \n",
       "1                            Death Note   8.62   \n",
       "2      Fullmetal Alchemist: Brotherhood   9.14   \n",
       "3                         One Punch Man   8.51   \n",
       "4                      Sword Art Online   7.20   \n",
       "..                                  ...    ...   \n",
       "95                   Deadman Wonderland   7.17   \n",
       "96    Kaichou wa Maid-sama!\\nMaid Sama!   8.02   \n",
       "97                         Guilty Crown   7.44   \n",
       "98                         Vinland Saga   8.73   \n",
       "99                     Samurai Champloo   8.50   \n",
       "\n",
       "                                           Genre  \n",
       "0                          Genres: Action, Drama  \n",
       "1                 Genres: Supernatural, Suspense  \n",
       "2      Genres: Action, Adventure, Drama, Fantasy  \n",
       "3                         Genres: Action, Comedy  \n",
       "4    Genres: Action, Adventure, Fantasy, Romance  \n",
       "..                                           ...  \n",
       "95  Genres: Action, Horror, Sci-Fi, Supernatural  \n",
       "96                       Genres: Comedy, Romance  \n",
       "97                 Genres: Action, Drama, Sci-Fi  \n",
       "98              Genres: Action, Adventure, Drama  \n",
       "99             Genres: Action, Adventure, Comedy  \n",
       "\n",
       "[100 rows x 3 columns]"
      ]
     },
     "execution_count": 8,
     "metadata": {},
     "output_type": "execute_result"
    }
   ],
   "source": [
    "dataFrame"
   ]
  },
  {
   "cell_type": "code",
   "execution_count": null,
   "metadata": {},
   "outputs": [],
   "source": []
  }
 ],
 "metadata": {
  "interpreter": {
   "hash": "544df186037e6dff05340f217e24fcbd5596a5bc7a12cb3c27f45aa01bd7925a"
  },
  "kernelspec": {
   "display_name": "Python 3.9.7 64-bit",
   "language": "python",
   "name": "python3"
  },
  "language_info": {
   "codemirror_mode": {
    "name": "ipython",
    "version": 3
   },
   "file_extension": ".py",
   "mimetype": "text/x-python",
   "name": "python",
   "nbconvert_exporter": "python",
   "pygments_lexer": "ipython3",
   "version": "3.9.7"
  },
  "orig_nbformat": 4
 },
 "nbformat": 4,
 "nbformat_minor": 2
}
