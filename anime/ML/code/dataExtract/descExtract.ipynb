{
 "cells": [
  {
   "cell_type": "code",
   "execution_count": 1,
   "metadata": {},
   "outputs": [
    {
     "name": "stderr",
     "output_type": "stream",
     "text": [
      "C:\\Users\\mvspr\\AppData\\Local\\Temp\\ipykernel_19868\\2980882170.py:4: DeprecationWarning: executable_path has been deprecated, please pass in a Service object\n",
      "  driver = webdriver.Chrome(\"S:\\Projects/anime\\chromedriver\\chromedriver_win32\\chromedriver.exe\")\n"
     ]
    }
   ],
   "source": [
    "from selenium import webdriver\n",
    "from selenium.webdriver.support.ui import WebDriverWait\n",
    "\n",
    "driver = webdriver.Chrome(\"S:\\Projects/anime\\chromedriver\\chromedriver_win32\\chromedriver.exe\")\n",
    "wait = WebDriverWait(driver, 10)"
   ]
  },
  {
   "cell_type": "code",
   "execution_count": 2,
   "metadata": {},
   "outputs": [],
   "source": [
    "from selenium.webdriver.common.by import By\n",
    "from selenium.common.exceptions import NoSuchElementException\n",
    "\n",
    "def exist_by_path(path):\n",
    "    try:\n",
    "        driver.find_element(By.CSS_SELECTOR, path)\n",
    "    except NoSuchElementException:\n",
    "        return False\n",
    "    return True"
   ]
  },
  {
   "cell_type": "code",
   "execution_count": 3,
   "metadata": {},
   "outputs": [],
   "source": [
    "import pandas as pd\n",
    "import string\n",
    "from selenium.webdriver.support import expected_conditions as EC\n",
    "\n",
    "links = pd.read_csv('S:\\Projects/anime\\links/links_1_300.csv')\n",
    "links = links['links'].tolist()\n",
    "\n",
    "desc = []\n",
    "redo = []\n",
    "\n",
    "for link in links:\n",
    "    driver.get(link)\n",
    "\n",
    "    desc_path = 'p[itemprop=\"description\"]'\n",
    "    if(exist_by_path(desc_path)):\n",
    "        des = wait.until(EC.visibility_of_any_elements_located((By.CSS_SELECTOR,desc_path)))\n",
    "        descri = ''\n",
    "        for d in des:\n",
    "            d = d.text\n",
    "            d = d.lower()\n",
    "            #for removing puncatuations in a single go.\n",
    "            d = d.translate(str.maketrans('','',string.punctuation))\n",
    "            descri = d+descri\n",
    "            #To remove line spaces between paragraphs and convert everything into a single line.\n",
    "            descri = \" \".join(descri.split())\n",
    "            desc.append(descri)\n",
    "    \n",
    "    else:\n",
    "        redo.append(link)\n"
   ]
  },
  {
   "cell_type": "code",
   "execution_count": 4,
   "metadata": {},
   "outputs": [],
   "source": [
    "#import string\n",
    "\n",
    "#description = ''\n",
    "#for d in desc:\n",
    "#    d = d.text\n",
    "#    d = d.lower()\n",
    "#    #for removing puncatuations in a single go.\n",
    "#    d = d.translate(str.maketrans('','',string.punctuation))\n",
    "#    description = d+description\n",
    "\n",
    "#print(description)\n",
    "\n"
   ]
  },
  {
   "cell_type": "code",
   "execution_count": 5,
   "metadata": {},
   "outputs": [],
   "source": [
    "#To remove line spaces between paragraphs and convert everything into a single line.\n",
    "#\" \".join(description.split())"
   ]
  },
  {
   "cell_type": "code",
   "execution_count": 7,
   "metadata": {},
   "outputs": [],
   "source": [
    "data = {'description':desc}\n",
    "data = pd.DataFrame(data)\n",
    "data.to_csv('S:\\Projects/anime\\data/description.csv', index=False)"
   ]
  },
  {
   "cell_type": "code",
   "execution_count": null,
   "metadata": {},
   "outputs": [],
   "source": []
  }
 ],
 "metadata": {
  "kernelspec": {
   "display_name": "Python 3.9.7 64-bit",
   "language": "python",
   "name": "python3"
  },
  "language_info": {
   "codemirror_mode": {
    "name": "ipython",
    "version": 3
   },
   "file_extension": ".py",
   "mimetype": "text/x-python",
   "name": "python",
   "nbconvert_exporter": "python",
   "pygments_lexer": "ipython3",
   "version": "3.9.7"
  },
  "orig_nbformat": 4,
  "vscode": {
   "interpreter": {
    "hash": "544df186037e6dff05340f217e24fcbd5596a5bc7a12cb3c27f45aa01bd7925a"
   }
  }
 },
 "nbformat": 4,
 "nbformat_minor": 2
}
