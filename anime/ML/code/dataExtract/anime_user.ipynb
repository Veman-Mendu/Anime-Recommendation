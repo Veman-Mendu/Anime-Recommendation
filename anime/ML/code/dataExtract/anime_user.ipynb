{
 "cells": [
  {
   "cell_type": "code",
   "execution_count": 4,
   "metadata": {},
   "outputs": [
    {
     "data": {
      "text/html": [
       "<div>\n",
       "<style scoped>\n",
       "    .dataframe tbody tr th:only-of-type {\n",
       "        vertical-align: middle;\n",
       "    }\n",
       "\n",
       "    .dataframe tbody tr th {\n",
       "        vertical-align: top;\n",
       "    }\n",
       "\n",
       "    .dataframe thead th {\n",
       "        text-align: right;\n",
       "    }\n",
       "</style>\n",
       "<table border=\"1\" class=\"dataframe\">\n",
       "  <thead>\n",
       "    <tr style=\"text-align: right;\">\n",
       "      <th></th>\n",
       "      <th>Unnamed: 0</th>\n",
       "      <th>anime_stat</th>\n",
       "    </tr>\n",
       "  </thead>\n",
       "  <tbody>\n",
       "    <tr>\n",
       "      <th>0</th>\n",
       "      <td>0</td>\n",
       "      <td>https://myanimelist.net/anime/16498/Shingeki_n...</td>\n",
       "    </tr>\n",
       "    <tr>\n",
       "      <th>1</th>\n",
       "      <td>1</td>\n",
       "      <td>https://myanimelist.net/anime/1535/Death_Note/...</td>\n",
       "    </tr>\n",
       "    <tr>\n",
       "      <th>2</th>\n",
       "      <td>2</td>\n",
       "      <td>https://myanimelist.net/anime/5114/Fullmetal_A...</td>\n",
       "    </tr>\n",
       "    <tr>\n",
       "      <th>3</th>\n",
       "      <td>3</td>\n",
       "      <td>https://myanimelist.net/anime/30276/One_Punch_...</td>\n",
       "    </tr>\n",
       "    <tr>\n",
       "      <th>4</th>\n",
       "      <td>4</td>\n",
       "      <td>https://myanimelist.net/anime/11757/Sword_Art_...</td>\n",
       "    </tr>\n",
       "  </tbody>\n",
       "</table>\n",
       "</div>"
      ],
      "text/plain": [
       "   Unnamed: 0                                         anime_stat\n",
       "0           0  https://myanimelist.net/anime/16498/Shingeki_n...\n",
       "1           1  https://myanimelist.net/anime/1535/Death_Note/...\n",
       "2           2  https://myanimelist.net/anime/5114/Fullmetal_A...\n",
       "3           3  https://myanimelist.net/anime/30276/One_Punch_...\n",
       "4           4  https://myanimelist.net/anime/11757/Sword_Art_..."
      ]
     },
     "execution_count": 4,
     "metadata": {},
     "output_type": "execute_result"
    }
   ],
   "source": [
    "import pandas as pd\n",
    "\n",
    "stat_links = pd.read_csv('S:\\Projects/anime\\ML\\links/stats.csv')\n",
    "stat_links.head(5)"
   ]
  },
  {
   "cell_type": "code",
   "execution_count": 5,
   "metadata": {},
   "outputs": [],
   "source": [
    "stat_links.columns = ['id','anime_stat']"
   ]
  },
  {
   "cell_type": "code",
   "execution_count": 6,
   "metadata": {},
   "outputs": [],
   "source": [
    "stat_links = stat_links.drop('id',axis=1)"
   ]
  },
  {
   "cell_type": "code",
   "execution_count": 7,
   "metadata": {},
   "outputs": [
    {
     "name": "stderr",
     "output_type": "stream",
     "text": [
      "C:\\Users\\mvspr\\AppData\\Local\\Temp\\ipykernel_58932\\4269025399.py:4: DeprecationWarning: executable_path has been deprecated, please pass in a Service object\n",
      "  driver = webdriver.Chrome(\"S:\\Projects/anime\\ML\\chromedriver\\chromedriver_win32\\chromedriver.exe\")\n"
     ]
    }
   ],
   "source": [
    "from selenium import webdriver\n",
    "from selenium.webdriver.support.ui import WebDriverWait\n",
    "\n",
    "driver = webdriver.Chrome(\"S:\\Projects/anime\\ML\\chromedriver\\chromedriver_win32\\chromedriver.exe\")\n",
    "wait = WebDriverWait(driver, 7)"
   ]
  },
  {
   "cell_type": "code",
   "execution_count": 8,
   "metadata": {},
   "outputs": [],
   "source": [
    "def collect_user():\n",
    "    links = []\n",
    "    link = driver.find_elements(By.CSS_SELECTOR, 'table[class=\"table-recently-updated\"] td[class=\"borderClass\"] a')\n",
    "    for item in link:\n",
    "        links.append(item.get_attribute('href'))\n",
    "\n",
    "    up_links = []\n",
    "    for i in range(0,150):\n",
    "        if (i%2 == 0):\n",
    "            up_links.append(links[i])\n",
    "\n",
    "    return up_links"
   ]
  },
  {
   "cell_type": "code",
   "execution_count": 9,
   "metadata": {},
   "outputs": [],
   "source": [
    "def collect_score():\n",
    "    data = []\n",
    "    link = driver.find_elements(By.CSS_SELECTOR, 'table[class=\"table-recently-updated\"] td[class=\"borderClass ac\"]')\n",
    "    for item in link:\n",
    "        data.append(item.text)\n",
    "\n",
    "    re_data = []\n",
    "    for i in range(0,300):\n",
    "        if i%4 == 0:\n",
    "            re_data.append([data[i]])\n",
    "\n",
    "    return re_data"
   ]
  },
  {
   "cell_type": "code",
   "execution_count": 10,
   "metadata": {},
   "outputs": [],
   "source": [
    "def sampling(link_score):\n",
    "    anime_score = []\n",
    "    sampling = link_score.to_numpy()\n",
    "    for d in sampling:\n",
    "        if(d[1].isdigit()):\n",
    "            anime_score.append(d)\n",
    "\n",
    "    anime_score = pd.DataFrame(anime_score)\n",
    "    anime_score.columns = ['links','scores']\n",
    "\n",
    "    return anime_score"
   ]
  },
  {
   "cell_type": "code",
   "execution_count": 12,
   "metadata": {},
   "outputs": [
    {
     "ename": "AttributeError",
     "evalue": "'int' object has no attribute 'replace'",
     "output_type": "error",
     "traceback": [
      "\u001b[1;31m---------------------------------------------------------------------------\u001b[0m",
      "\u001b[1;31mAttributeError\u001b[0m                            Traceback (most recent call last)",
      "\u001b[1;32ms:\\Projects\\anime\\ML\\code\\dataExtract\\anime_user.ipynb Cell 8\u001b[0m in \u001b[0;36m<cell line: 5>\u001b[1;34m()\u001b[0m\n\u001b[0;32m     <a href='vscode-notebook-cell:/s%3A/Projects/anime/ML/code/dataExtract/anime_user.ipynb#X11sZmlsZQ%3D%3D?line=33'>34</a>\u001b[0m user_data \u001b[39m=\u001b[39m [i,title,sampled_score[\u001b[39m'\u001b[39m\u001b[39mscores\u001b[39m\u001b[39m'\u001b[39m][\u001b[39m0\u001b[39m],user_stats[\u001b[39m1\u001b[39m][\u001b[39m1\u001b[39m], user_stats[\u001b[39m1\u001b[39m][\u001b[39m4\u001b[39m],user_stats[\u001b[39m3\u001b[39m][\u001b[39m0\u001b[39m],user_stats[\u001b[39m5\u001b[39m][\u001b[39m0\u001b[39m],user_stats[\u001b[39m7\u001b[39m][\u001b[39m0\u001b[39m],user_stats[\u001b[39m9\u001b[39m][\u001b[39m0\u001b[39m],user_stats[\u001b[39m11\u001b[39m][\u001b[39m0\u001b[39m],user_stats[\u001b[39m13\u001b[39m][\u001b[39m0\u001b[39m],user_stats[\u001b[39m15\u001b[39m][\u001b[39m0\u001b[39m],user_stats[\u001b[39m17\u001b[39m][\u001b[39m0\u001b[39m]]\n\u001b[0;32m     <a href='vscode-notebook-cell:/s%3A/Projects/anime/ML/code/dataExtract/anime_user.ipynb#X11sZmlsZQ%3D%3D?line=34'>35</a>\u001b[0m \u001b[39mfor\u001b[39;00m j \u001b[39min\u001b[39;00m \u001b[39mrange\u001b[39m(\u001b[39m3\u001b[39m,\u001b[39m13\u001b[39m):\n\u001b[1;32m---> <a href='vscode-notebook-cell:/s%3A/Projects/anime/ML/code/dataExtract/anime_user.ipynb#X11sZmlsZQ%3D%3D?line=35'>36</a>\u001b[0m     user_data[i] \u001b[39m=\u001b[39m user_data[i]\u001b[39m.\u001b[39;49mreplace(\u001b[39m'\u001b[39m\u001b[39m,\u001b[39m\u001b[39m'\u001b[39m,\u001b[39m'\u001b[39m\u001b[39m'\u001b[39m)\n\u001b[0;32m     <a href='vscode-notebook-cell:/s%3A/Projects/anime/ML/code/dataExtract/anime_user.ipynb#X11sZmlsZQ%3D%3D?line=36'>37</a>\u001b[0m     user_data[i] \u001b[39m=\u001b[39m \u001b[39mfloat\u001b[39m(user_data[i])\n\u001b[0;32m     <a href='vscode-notebook-cell:/s%3A/Projects/anime/ML/code/dataExtract/anime_user.ipynb#X11sZmlsZQ%3D%3D?line=38'>39</a>\u001b[0m u_data \u001b[39m=\u001b[39m []\n",
      "\u001b[1;31mAttributeError\u001b[0m: 'int' object has no attribute 'replace'"
     ]
    }
   ],
   "source": [
    "from selenium.webdriver.common.by import By\n",
    "from selenium.webdriver.support import expected_conditions as EC\n",
    "\n",
    "count = 0\n",
    "for sl in stat_links['anime_stat']:\n",
    "    driver.get(sl)\n",
    "    \n",
    "    links = collect_user()\n",
    "    scores = collect_score()\n",
    "\n",
    "    links = pd.DataFrame(links)\n",
    "    links.columns = ['links']\n",
    "    scores = pd.DataFrame(scores)\n",
    "    scores.columns = ['scores']\n",
    "\n",
    "    link_score = pd.concat([links,scores],axis=1,join='inner')\n",
    "\n",
    "    sampled_score = sampling(link_score)\n",
    "\n",
    "    title = wait.until(EC.visibility_of_element_located((By.CSS_SELECTOR, 'h1[class=\"title-name h1_bold_none\"]')))\n",
    "    title = title.text\n",
    "\n",
    "    i = 0\n",
    "    for sc in sampled_score['links']:\n",
    "        driver.get(sc)\n",
    "        user_stats = []\n",
    "        score = wait.until(EC.visibility_of_element_located((By.CSS_SELECTOR,'div[class=\"stats anime\"]')))\n",
    "        score = score.text\n",
    "        score = score.split('\\n')\n",
    "        for s in score:\n",
    "            s = s.split(' ')\n",
    "            user_stats.append(s)\n",
    "\n",
    "        user_data = [i,title,sampled_score['scores'][0],user_stats[1][1], user_stats[1][4],user_stats[3][0],user_stats[5][0],user_stats[7][0],user_stats[9][0],user_stats[11][0],user_stats[13][0],user_stats[15][0],user_stats[17][0]]\n",
    "        for j in range(2,13):\n",
    "            user_data[j] = user_data[j].replace(',','')\n",
    "            user_data[j] = float(user_data[j])\n",
    "\n",
    "        u_data = []\n",
    "        for j in range(2):\n",
    "            u_data.append(user_data)\n",
    "\n",
    "        u_data = pd.DataFrame(u_data)\n",
    "        u_data.columns = ['id','Title','Score','Days','Mean Score', 'Watching', 'Completed', 'On Hold', 'Dropped', 'Plan to Watch', 'Total Entries', 'Rewatched', 'Episodes']\n",
    "        u_data = u_data.drop_duplicates()\n",
    "        \n",
    "        print(f'users : {i}')\n",
    "        i = i+1\n",
    "\n",
    "    \n",
    "    \n",
    "    print(f'animes : {count}')\n",
    "    count = count + 1\n"
   ]
  },
  {
   "cell_type": "code",
   "execution_count": null,
   "metadata": {},
   "outputs": [
    {
     "name": "stdout",
     "output_type": "stream",
     "text": [
      "users 0\n"
     ]
    }
   ],
   "source": [
    "i = 0\n",
    "print(f'users {i}')"
   ]
  },
  {
   "cell_type": "code",
   "execution_count": null,
   "metadata": {},
   "outputs": [],
   "source": []
  }
 ],
 "metadata": {
  "kernelspec": {
   "display_name": "Python 3",
   "language": "python",
   "name": "python3"
  },
  "language_info": {
   "codemirror_mode": {
    "name": "ipython",
    "version": 3
   },
   "file_extension": ".py",
   "mimetype": "text/x-python",
   "name": "python",
   "nbconvert_exporter": "python",
   "pygments_lexer": "ipython3",
   "version": "3.9.7"
  },
  "orig_nbformat": 4,
  "vscode": {
   "interpreter": {
    "hash": "544df186037e6dff05340f217e24fcbd5596a5bc7a12cb3c27f45aa01bd7925a"
   }
  }
 },
 "nbformat": 4,
 "nbformat_minor": 2
}
