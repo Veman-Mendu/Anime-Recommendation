{
 "cells": [
  {
   "cell_type": "code",
   "execution_count": 1,
   "metadata": {},
   "outputs": [
    {
     "data": {
      "text/html": [
       "<div>\n",
       "<style scoped>\n",
       "    .dataframe tbody tr th:only-of-type {\n",
       "        vertical-align: middle;\n",
       "    }\n",
       "\n",
       "    .dataframe tbody tr th {\n",
       "        vertical-align: top;\n",
       "    }\n",
       "\n",
       "    .dataframe thead th {\n",
       "        text-align: right;\n",
       "    }\n",
       "</style>\n",
       "<table border=\"1\" class=\"dataframe\">\n",
       "  <thead>\n",
       "    <tr style=\"text-align: right;\">\n",
       "      <th></th>\n",
       "      <th>Episodes</th>\n",
       "      <th>Status</th>\n",
       "      <th>Ratings</th>\n",
       "      <th>Scores</th>\n",
       "      <th>Rank</th>\n",
       "      <th>Popularity</th>\n",
       "      <th>Members</th>\n",
       "      <th>Favorites</th>\n",
       "      <th>titles</th>\n",
       "      <th>SP</th>\n",
       "      <th>Genre</th>\n",
       "      <th>Studio</th>\n",
       "      <th>description</th>\n",
       "    </tr>\n",
       "  </thead>\n",
       "  <tbody>\n",
       "    <tr>\n",
       "      <th>0</th>\n",
       "      <td>25</td>\n",
       "      <td>Finished Airing</td>\n",
       "      <td>R - 17+ (violence &amp; profanity)</td>\n",
       "      <td>8.53</td>\n",
       "      <td>100</td>\n",
       "      <td>1</td>\n",
       "      <td>3510395</td>\n",
       "      <td>155195</td>\n",
       "      <td>Shingeki no Kyojin</td>\n",
       "      <td>['crunchyroll', 'funimation']</td>\n",
       "      <td>['action', 'drama']</td>\n",
       "      <td>['witstudio']</td>\n",
       "      <td>centuries ago mankind was slaughtered to near ...</td>\n",
       "    </tr>\n",
       "    <tr>\n",
       "      <th>1</th>\n",
       "      <td>37</td>\n",
       "      <td>Finished Airing</td>\n",
       "      <td>R - 17+ (violence &amp; profanity)</td>\n",
       "      <td>8.62</td>\n",
       "      <td>73</td>\n",
       "      <td>2</td>\n",
       "      <td>3491046</td>\n",
       "      <td>159080</td>\n",
       "      <td>Death Note</td>\n",
       "      <td>['crunchyroll', 'funimation']</td>\n",
       "      <td>['supernatural', 'suspense']</td>\n",
       "      <td>['madhouse']</td>\n",
       "      <td>brutal murders petty thefts and senseless viol...</td>\n",
       "    </tr>\n",
       "    <tr>\n",
       "      <th>2</th>\n",
       "      <td>64</td>\n",
       "      <td>Finished Airing</td>\n",
       "      <td>R - 17+ (violence &amp; profanity)</td>\n",
       "      <td>9.13</td>\n",
       "      <td>1</td>\n",
       "      <td>3</td>\n",
       "      <td>2966462</td>\n",
       "      <td>206903</td>\n",
       "      <td>Fullmetal Alchemist: Brotherhood</td>\n",
       "      <td>['crunchyroll', 'funimation']</td>\n",
       "      <td>['action', 'adventure', 'drama', 'fantasy']</td>\n",
       "      <td>['bones']</td>\n",
       "      <td>after a horrific alchemy experiment goes wrong...</td>\n",
       "    </tr>\n",
       "    <tr>\n",
       "      <th>3</th>\n",
       "      <td>12</td>\n",
       "      <td>Finished Airing</td>\n",
       "      <td>R - 17+ (violence &amp; profanity)</td>\n",
       "      <td>8.51</td>\n",
       "      <td>110</td>\n",
       "      <td>4</td>\n",
       "      <td>2868306</td>\n",
       "      <td>59353</td>\n",
       "      <td>One Punch Man</td>\n",
       "      <td>['crunchyroll', 'funimation']</td>\n",
       "      <td>['action', 'comedy']</td>\n",
       "      <td>['madhouse']</td>\n",
       "      <td>the seemingly unimpressive saitama has a rathe...</td>\n",
       "    </tr>\n",
       "    <tr>\n",
       "      <th>4</th>\n",
       "      <td>25</td>\n",
       "      <td>Finished Airing</td>\n",
       "      <td>PG-13 - Teens 13 or older</td>\n",
       "      <td>7.20</td>\n",
       "      <td>3018</td>\n",
       "      <td>5</td>\n",
       "      <td>2805024</td>\n",
       "      <td>64861</td>\n",
       "      <td>Sword Art Online</td>\n",
       "      <td>['crunchyroll', 'funimation']</td>\n",
       "      <td>['action', 'adventure', 'fantasy', 'romance']</td>\n",
       "      <td>['a-1pictures']</td>\n",
       "      <td>ever since the release of the innovative nerve...</td>\n",
       "    </tr>\n",
       "  </tbody>\n",
       "</table>\n",
       "</div>"
      ],
      "text/plain": [
       "  Episodes           Status                         Ratings  Scores  Rank  \\\n",
       "0       25  Finished Airing  R - 17+ (violence & profanity)    8.53   100   \n",
       "1       37  Finished Airing  R - 17+ (violence & profanity)    8.62    73   \n",
       "2       64  Finished Airing  R - 17+ (violence & profanity)    9.13     1   \n",
       "3       12  Finished Airing  R - 17+ (violence & profanity)    8.51   110   \n",
       "4       25  Finished Airing       PG-13 - Teens 13 or older    7.20  3018   \n",
       "\n",
       "   Popularity  Members  Favorites                            titles  \\\n",
       "0           1  3510395     155195                Shingeki no Kyojin   \n",
       "1           2  3491046     159080                        Death Note   \n",
       "2           3  2966462     206903  Fullmetal Alchemist: Brotherhood   \n",
       "3           4  2868306      59353                     One Punch Man   \n",
       "4           5  2805024      64861                  Sword Art Online   \n",
       "\n",
       "                              SP  \\\n",
       "0  ['crunchyroll', 'funimation']   \n",
       "1  ['crunchyroll', 'funimation']   \n",
       "2  ['crunchyroll', 'funimation']   \n",
       "3  ['crunchyroll', 'funimation']   \n",
       "4  ['crunchyroll', 'funimation']   \n",
       "\n",
       "                                           Genre           Studio  \\\n",
       "0                            ['action', 'drama']    ['witstudio']   \n",
       "1                   ['supernatural', 'suspense']     ['madhouse']   \n",
       "2    ['action', 'adventure', 'drama', 'fantasy']        ['bones']   \n",
       "3                           ['action', 'comedy']     ['madhouse']   \n",
       "4  ['action', 'adventure', 'fantasy', 'romance']  ['a-1pictures']   \n",
       "\n",
       "                                         description  \n",
       "0  centuries ago mankind was slaughtered to near ...  \n",
       "1  brutal murders petty thefts and senseless viol...  \n",
       "2  after a horrific alchemy experiment goes wrong...  \n",
       "3  the seemingly unimpressive saitama has a rathe...  \n",
       "4  ever since the release of the innovative nerve...  "
      ]
     },
     "execution_count": 1,
     "metadata": {},
     "output_type": "execute_result"
    }
   ],
   "source": [
    "import pandas as pd\n",
    "from sklearn.feature_extraction.text import TfidfVectorizer\n",
    "\n",
    "description = pd.read_csv(\"S:\\Projects/anime\\data\\description.csv\")\n",
    "data = pd.read_csv(\"S:\\Projects/anime\\data\\genrelistdata.csv\")\n",
    "#tfidf = TfidfVectorizer(stop_words='english')\n",
    "#tfidf_matrix = tfidf.fit_transform(data['description'])\n",
    "\n",
    "#tfidf_matrix.shape\n",
    "data['description'] = description['description']\n",
    "data.head(5)"
   ]
  },
  {
   "cell_type": "code",
   "execution_count": 12,
   "metadata": {},
   "outputs": [],
   "source": [
    "def create_soup(x):\n",
    "    x['Genre'] = x['Genre'].replace('[','')\n",
    "    x['Genre'] = x['Genre'].replace(\"'\",'')\n",
    "    x['Genre'] = x['Genre'].replace(',','')\n",
    "    x['Genre'] = x['Genre'].replace(']','')\n",
    "    \n",
    "    x['Studio'] = x['Studio'].replace('[','')\n",
    "    x['Studio'] = x['Studio'].replace(\"'\",'')\n",
    "    x['Studio'] = x['Studio'].replace(',','')\n",
    "    x['Studio'] = x['Studio'].replace(']','')\n",
    "\n",
    "    x['SP'] = str(x['SP'])\n",
    "    x['SP'] = x['SP'].replace('[','')\n",
    "    x['SP'] = x['SP'].replace(\"'\",'')\n",
    "    x['SP'] = x['SP'].replace(',','')\n",
    "    x['SP'] = x['SP'].replace(']','')\n",
    "\n",
    "    x['titles'] = x['titles'].replace(' ','')\n",
    "\n",
    "    return ''.join(x['Genre'])+' '+''.join(x['Studio'])+' '+''.join(x['SP'])+' '+''.join(x['titles']+' '+'')+' '+''.join(x['description'])"
   ]
  },
  {
   "cell_type": "code",
   "execution_count": 13,
   "metadata": {},
   "outputs": [
    {
     "data": {
      "text/plain": [
       "'action drama witstudio crunchyroll funimation ShingekinoKyojin  centuries ago mankind was slaughtered to near extinction by monstrous humanoid creatures called titans forcing humans to hide in fear behind enormous concentric walls what makes these giants truly terrifying is that their taste for human flesh is not born out of hunger but what appears to be out of pleasure to ensure their survival the remnants of humanity began living within defensive barriers resulting in one hundred years without a single titan encounter however that fragile calm is soon shattered when a colossal titan manages to breach the supposedly impregnable outer wall reigniting the fight for survival against the maneating abominations after witnessing a horrific personal loss at the hands of the invading creatures eren yeager dedicates his life to their eradication by enlisting into the survey corps an elite military unit that combats the merciless humanoids outside the protection of the walls eren his adopted sister mikasa ackerman and his childhood friend armin arlert join the brutal war against the titans and race to discover a way of defeating them before the last walls are breached written by mal rewrite'"
      ]
     },
     "execution_count": 13,
     "metadata": {},
     "output_type": "execute_result"
    }
   ],
   "source": [
    "data['Soup'] = data.apply(create_soup, axis=1)\n",
    "data.iloc[0]['Soup']"
   ]
  },
  {
   "cell_type": "code",
   "execution_count": 14,
   "metadata": {},
   "outputs": [],
   "source": [
    "titles = pd.read_csv(\"S:\\Projects/anime\\data\\genrelistdata.csv\")\n",
    "indices = pd.Series(titles.index, index = titles['titles']).drop_duplicates()"
   ]
  },
  {
   "cell_type": "code",
   "execution_count": 19,
   "metadata": {},
   "outputs": [],
   "source": [
    "from sklearn.feature_extraction.text import CountVectorizer\n",
    "tfidf = CountVectorizer(stop_words='english')\n",
    "tfidf_matrix = tfidf.fit_transform(data['Soup'])"
   ]
  },
  {
   "cell_type": "code",
   "execution_count": 20,
   "metadata": {},
   "outputs": [],
   "source": [
    "from sklearn.metrics.pairwise import cosine_similarity\n",
    "\n",
    "cosine_sim = cosine_similarity(tfidf_matrix, tfidf_matrix)"
   ]
  },
  {
   "cell_type": "code",
   "execution_count": 21,
   "metadata": {},
   "outputs": [],
   "source": [
    "def content_recommender(title, cosine_sim=cosine_sim, titles = titles, indices = indices):\n",
    "    idx = indices[title]\n",
    "    sim_score = list(enumerate(cosine_sim[idx]))\n",
    "    sim_score = sorted(sim_score,key = lambda x:x[1], reverse=True)\n",
    "    sim_score = sim_score[1:11]\n",
    "\n",
    "    anime_indices = [i[0] for i in sim_score]\n",
    "\n",
    "    return titles['titles'].iloc[anime_indices]"
   ]
  },
  {
   "cell_type": "code",
   "execution_count": 22,
   "metadata": {},
   "outputs": [
    {
     "data": {
      "text/plain": [
       "55                      Psycho-Pass\n",
       "265                       Blood Lad\n",
       "57                        Dr. Stone\n",
       "48                     Death Parade\n",
       "32              Sword Art Online II\n",
       "251                 Eromanga-sensei\n",
       "182                     Kami no Tou\n",
       "24                        One Piece\n",
       "136    Magi: The Labyrinth of Magic\n",
       "247        Hai to Gensou no Grimgar\n",
       "Name: titles, dtype: object"
      ]
     },
     "execution_count": 22,
     "metadata": {},
     "output_type": "execute_result"
    }
   ],
   "source": [
    "content_recommender('Death Note')"
   ]
  },
  {
   "cell_type": "code",
   "execution_count": null,
   "metadata": {},
   "outputs": [],
   "source": []
  }
 ],
 "metadata": {
  "kernelspec": {
   "display_name": "Python 3.9.7 64-bit",
   "language": "python",
   "name": "python3"
  },
  "language_info": {
   "codemirror_mode": {
    "name": "ipython",
    "version": 3
   },
   "file_extension": ".py",
   "mimetype": "text/x-python",
   "name": "python",
   "nbconvert_exporter": "python",
   "pygments_lexer": "ipython3",
   "version": "3.9.7"
  },
  "orig_nbformat": 4,
  "vscode": {
   "interpreter": {
    "hash": "544df186037e6dff05340f217e24fcbd5596a5bc7a12cb3c27f45aa01bd7925a"
   }
  }
 },
 "nbformat": 4,
 "nbformat_minor": 2
}
