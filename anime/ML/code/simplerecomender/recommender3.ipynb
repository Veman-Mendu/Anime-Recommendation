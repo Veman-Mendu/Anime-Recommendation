{
 "cells": [
  {
   "cell_type": "code",
   "execution_count": 37,
   "metadata": {},
   "outputs": [],
   "source": [
    "import pandas as pd\n",
    "\n",
    "data = pd.read_csv(\"S:\\Projects/anime\\ML\\data\\genrelistdata.csv\")"
   ]
  },
  {
   "cell_type": "code",
   "execution_count": 38,
   "metadata": {},
   "outputs": [],
   "source": [
    "def create_soup(x):\n",
    "    x['Genre'] = x['Genre'].replace('[','')\n",
    "    x['Genre'] = x['Genre'].replace(\"'\",'')\n",
    "    x['Genre'] = x['Genre'].replace(',','')\n",
    "    x['Genre'] = x['Genre'].replace(']','')\n",
    "    \n",
    "    x['Studio'] = x['Studio'].replace('[','')\n",
    "    x['Studio'] = x['Studio'].replace(\"'\",'')\n",
    "    x['Studio'] = x['Studio'].replace(',','')\n",
    "    x['Studio'] = x['Studio'].replace(']','')\n",
    "\n",
    "    x['SP'] = str(x['SP'])\n",
    "    x['SP'] = x['SP'].replace('[','')\n",
    "    x['SP'] = x['SP'].replace(\"'\",'')\n",
    "    x['SP'] = x['SP'].replace(',','')\n",
    "    x['SP'] = x['SP'].replace(']','')\n",
    "\n",
    "    x['titles'] = x['titles'].replace(' ','')\n",
    "    x['titles'] = x['titles'].lower()\n",
    "\n",
    "    return ''.join(x['Genre'])+' '+''.join(x['Studio'])+' '+''.join(x['SP'])+' '+''.join(x['titles'])"
   ]
  },
  {
   "cell_type": "code",
   "execution_count": 39,
   "metadata": {},
   "outputs": [
    {
     "data": {
      "text/plain": [
       "'action drama witstudio crunchyroll funimation shingekinokyojin'"
      ]
     },
     "execution_count": 39,
     "metadata": {},
     "output_type": "execute_result"
    }
   ],
   "source": [
    "data['Soup'] = data.apply(create_soup, axis=1)\n",
    "data.iloc[0]['Soup']"
   ]
  },
  {
   "cell_type": "code",
   "execution_count": 40,
   "metadata": {},
   "outputs": [
    {
     "data": {
      "text/plain": [
       "titles\n",
       "shingeki no kyojin                        0\n",
       "death note                                1\n",
       "fullmetal alchemist: brotherhood          2\n",
       "one punch man                             3\n",
       "sword art online                          4\n",
       "                                       ... \n",
       "tate no yuusha no nariagari season 2    295\n",
       "baka to test to shoukanjuu              296\n",
       "saenai heroine no sodatekata            297\n",
       "strike the blood                        298\n",
       "is: infinite stratos                    299\n",
       "Length: 300, dtype: int64"
      ]
     },
     "execution_count": 40,
     "metadata": {},
     "output_type": "execute_result"
    }
   ],
   "source": [
    "data['titles'] = data['titles'].str.lower()\n",
    "indices = pd.Series(data.index, index = data['titles']).drop_duplicates()\n",
    "indices"
   ]
  },
  {
   "cell_type": "code",
   "execution_count": 41,
   "metadata": {},
   "outputs": [],
   "source": [
    "from sklearn.feature_extraction.text import CountVectorizer\n",
    "\n",
    "count = CountVectorizer(stop_words='english')\n",
    "count_matrix = count.fit_transform(data['Soup'])\n",
    "#count_matrix.todense() shows the matrix for better understranding.\n",
    "#count.get_feature_names_out() shows the order of unique words for the matrix."
   ]
  },
  {
   "cell_type": "code",
   "execution_count": 42,
   "metadata": {},
   "outputs": [],
   "source": [
    "from sklearn.metrics.pairwise import cosine_similarity\n",
    "\n",
    "cosine_sim = cosine_similarity(count_matrix, count_matrix)"
   ]
  },
  {
   "cell_type": "code",
   "execution_count": 43,
   "metadata": {},
   "outputs": [],
   "source": [
    "def content_recommender(title, cosine_sim=cosine_sim, data = data, indices = indices):\n",
    "    idx = indices[title]\n",
    "    sim_score = list(enumerate(cosine_sim[idx]))\n",
    "    sim_score = sorted(sim_score,key = lambda x:x[1], reverse=True)\n",
    "    sim_score = sim_score[1:11]\n",
    "\n",
    "    anime_indices = [i[0] for i in sim_score]\n",
    "\n",
    "    title_array = data['titles'].iloc[anime_indices]\n",
    "\n",
    "    return title_array"
   ]
  },
  {
   "cell_type": "code",
   "execution_count": 45,
   "metadata": {},
   "outputs": [
    {
     "data": {
      "text/plain": [
       "218    dragon ball super\n",
       "7                 naruto\n",
       "39                bleach\n",
       "103        dragon ball z\n",
       "117          log horizon\n",
       "128        goblin slayer\n",
       "143          dragon ball\n",
       "4       sword art online\n",
       "45            fairy tail\n",
       "68              overlord\n",
       "Name: titles, dtype: object"
      ]
     },
     "execution_count": 45,
     "metadata": {},
     "output_type": "execute_result"
    }
   ],
   "source": [
    "content_recommender(\"one piece\")"
   ]
  },
  {
   "cell_type": "code",
   "execution_count": null,
   "metadata": {},
   "outputs": [],
   "source": []
  }
 ],
 "metadata": {
  "kernelspec": {
   "display_name": "Python 3.9.7 64-bit",
   "language": "python",
   "name": "python3"
  },
  "language_info": {
   "codemirror_mode": {
    "name": "ipython",
    "version": 3
   },
   "file_extension": ".py",
   "mimetype": "text/x-python",
   "name": "python",
   "nbconvert_exporter": "python",
   "pygments_lexer": "ipython3",
   "version": "3.9.7"
  },
  "orig_nbformat": 4,
  "vscode": {
   "interpreter": {
    "hash": "544df186037e6dff05340f217e24fcbd5596a5bc7a12cb3c27f45aa01bd7925a"
   }
  }
 },
 "nbformat": 4,
 "nbformat_minor": 2
}
